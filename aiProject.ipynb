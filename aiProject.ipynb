{
  "cells": [
    {
      "cell_type": "code",
      "execution_count": 4,
      "metadata": {
        "id": "79cbAVTStZv7"
      },
      "outputs": [],
      "source": [
        "import pandas as pd\n",
        "# link to dataset given in report\n",
        "# the dataset i used for training model was from 2020-4 available on their website\n",
        "df = pd.read_parquet('/content/yellow_tripdata_2020-04.parquet')\n",
        "df.to_csv('my_file.csv')"
      ]
    },
    {
      "cell_type": "code",
      "execution_count": 3,
      "metadata": {
        "colab": {
          "base_uri": "https://localhost:8080/",
          "height": 495
        },
        "id": "LJW1AraYv9ZK",
        "outputId": "5c76c4dd-f695-4d15-bbe8-dc61dc5f20a1"
      },
      "outputs": [
        {
          "name": "stderr",
          "output_type": "stream",
          "text": [
            "<ipython-input-3-8e5dad04f329>:1: DtypeWarning: Columns (7) have mixed types. Specify dtype option on import or set low_memory=False.\n",
            "  data = pd.read_csv(\"my_file.csv\")\n"
          ]
        },
        {
          "data": {
            "application/vnd.google.colaboratory.intrinsic+json": {
              "type": "dataframe",
              "variable_name": "data"
            },
            "text/html": [
              "\n",
              "  <div id=\"df-d81ced7b-523c-4b0e-92a3-c24c6ccc831d\" class=\"colab-df-container\">\n",
              "    <div>\n",
              "<style scoped>\n",
              "    .dataframe tbody tr th:only-of-type {\n",
              "        vertical-align: middle;\n",
              "    }\n",
              "\n",
              "    .dataframe tbody tr th {\n",
              "        vertical-align: top;\n",
              "    }\n",
              "\n",
              "    .dataframe thead th {\n",
              "        text-align: right;\n",
              "    }\n",
              "</style>\n",
              "<table border=\"1\" class=\"dataframe\">\n",
              "  <thead>\n",
              "    <tr style=\"text-align: right;\">\n",
              "      <th></th>\n",
              "      <th>Unnamed: 0</th>\n",
              "      <th>VendorID</th>\n",
              "      <th>tpep_pickup_datetime</th>\n",
              "      <th>tpep_dropoff_datetime</th>\n",
              "      <th>passenger_count</th>\n",
              "      <th>trip_distance</th>\n",
              "      <th>RatecodeID</th>\n",
              "      <th>store_and_fwd_flag</th>\n",
              "      <th>PULocationID</th>\n",
              "      <th>DOLocationID</th>\n",
              "      <th>payment_type</th>\n",
              "      <th>fare_amount</th>\n",
              "      <th>extra</th>\n",
              "      <th>mta_tax</th>\n",
              "      <th>tip_amount</th>\n",
              "      <th>tolls_amount</th>\n",
              "      <th>improvement_surcharge</th>\n",
              "      <th>total_amount</th>\n",
              "      <th>congestion_surcharge</th>\n",
              "      <th>airport_fee</th>\n",
              "    </tr>\n",
              "  </thead>\n",
              "  <tbody>\n",
              "    <tr>\n",
              "      <th>0</th>\n",
              "      <td>0</td>\n",
              "      <td>1</td>\n",
              "      <td>2020-04-01 00:41:22</td>\n",
              "      <td>2020-04-01 01:01:53</td>\n",
              "      <td>1.0</td>\n",
              "      <td>1.20</td>\n",
              "      <td>1.0</td>\n",
              "      <td>N</td>\n",
              "      <td>41</td>\n",
              "      <td>24</td>\n",
              "      <td>2</td>\n",
              "      <td>5.50</td>\n",
              "      <td>0.5</td>\n",
              "      <td>0.5</td>\n",
              "      <td>0.00</td>\n",
              "      <td>0.00</td>\n",
              "      <td>0.3</td>\n",
              "      <td>6.80</td>\n",
              "      <td>0.0</td>\n",
              "      <td>NaN</td>\n",
              "    </tr>\n",
              "    <tr>\n",
              "      <th>1</th>\n",
              "      <td>1</td>\n",
              "      <td>1</td>\n",
              "      <td>2020-04-01 00:56:00</td>\n",
              "      <td>2020-04-01 01:09:25</td>\n",
              "      <td>1.0</td>\n",
              "      <td>3.40</td>\n",
              "      <td>1.0</td>\n",
              "      <td>N</td>\n",
              "      <td>95</td>\n",
              "      <td>197</td>\n",
              "      <td>1</td>\n",
              "      <td>12.50</td>\n",
              "      <td>0.5</td>\n",
              "      <td>0.5</td>\n",
              "      <td>2.75</td>\n",
              "      <td>0.00</td>\n",
              "      <td>0.3</td>\n",
              "      <td>16.55</td>\n",
              "      <td>0.0</td>\n",
              "      <td>NaN</td>\n",
              "    </tr>\n",
              "    <tr>\n",
              "      <th>2</th>\n",
              "      <td>2</td>\n",
              "      <td>1</td>\n",
              "      <td>2020-04-01 00:00:26</td>\n",
              "      <td>2020-04-01 00:09:25</td>\n",
              "      <td>1.0</td>\n",
              "      <td>2.80</td>\n",
              "      <td>1.0</td>\n",
              "      <td>N</td>\n",
              "      <td>237</td>\n",
              "      <td>137</td>\n",
              "      <td>1</td>\n",
              "      <td>10.00</td>\n",
              "      <td>3.0</td>\n",
              "      <td>0.5</td>\n",
              "      <td>1.00</td>\n",
              "      <td>0.00</td>\n",
              "      <td>0.3</td>\n",
              "      <td>14.80</td>\n",
              "      <td>2.5</td>\n",
              "      <td>NaN</td>\n",
              "    </tr>\n",
              "    <tr>\n",
              "      <th>3</th>\n",
              "      <td>3</td>\n",
              "      <td>1</td>\n",
              "      <td>2020-04-01 00:24:38</td>\n",
              "      <td>2020-04-01 00:34:38</td>\n",
              "      <td>0.0</td>\n",
              "      <td>2.60</td>\n",
              "      <td>1.0</td>\n",
              "      <td>N</td>\n",
              "      <td>68</td>\n",
              "      <td>142</td>\n",
              "      <td>1</td>\n",
              "      <td>10.00</td>\n",
              "      <td>3.0</td>\n",
              "      <td>0.5</td>\n",
              "      <td>1.00</td>\n",
              "      <td>0.00</td>\n",
              "      <td>0.3</td>\n",
              "      <td>14.80</td>\n",
              "      <td>2.5</td>\n",
              "      <td>NaN</td>\n",
              "    </tr>\n",
              "    <tr>\n",
              "      <th>4</th>\n",
              "      <td>4</td>\n",
              "      <td>2</td>\n",
              "      <td>2020-04-01 00:13:24</td>\n",
              "      <td>2020-04-01 00:18:26</td>\n",
              "      <td>1.0</td>\n",
              "      <td>1.44</td>\n",
              "      <td>1.0</td>\n",
              "      <td>Y</td>\n",
              "      <td>263</td>\n",
              "      <td>74</td>\n",
              "      <td>1</td>\n",
              "      <td>6.50</td>\n",
              "      <td>0.5</td>\n",
              "      <td>0.5</td>\n",
              "      <td>3.00</td>\n",
              "      <td>0.00</td>\n",
              "      <td>0.3</td>\n",
              "      <td>13.30</td>\n",
              "      <td>2.5</td>\n",
              "      <td>NaN</td>\n",
              "    </tr>\n",
              "    <tr>\n",
              "      <th>...</th>\n",
              "      <td>...</td>\n",
              "      <td>...</td>\n",
              "      <td>...</td>\n",
              "      <td>...</td>\n",
              "      <td>...</td>\n",
              "      <td>...</td>\n",
              "      <td>...</td>\n",
              "      <td>...</td>\n",
              "      <td>...</td>\n",
              "      <td>...</td>\n",
              "      <td>...</td>\n",
              "      <td>...</td>\n",
              "      <td>...</td>\n",
              "      <td>...</td>\n",
              "      <td>...</td>\n",
              "      <td>...</td>\n",
              "      <td>...</td>\n",
              "      <td>...</td>\n",
              "      <td>...</td>\n",
              "      <td>...</td>\n",
              "    </tr>\n",
              "    <tr>\n",
              "      <th>238068</th>\n",
              "      <td>238068</td>\n",
              "      <td>2</td>\n",
              "      <td>2020-04-30 23:30:00</td>\n",
              "      <td>2020-04-30 23:39:00</td>\n",
              "      <td>NaN</td>\n",
              "      <td>2.02</td>\n",
              "      <td>NaN</td>\n",
              "      <td>NaN</td>\n",
              "      <td>238</td>\n",
              "      <td>75</td>\n",
              "      <td>0</td>\n",
              "      <td>8.46</td>\n",
              "      <td>0.0</td>\n",
              "      <td>0.5</td>\n",
              "      <td>0.00</td>\n",
              "      <td>0.00</td>\n",
              "      <td>0.3</td>\n",
              "      <td>11.76</td>\n",
              "      <td>NaN</td>\n",
              "      <td>NaN</td>\n",
              "    </tr>\n",
              "    <tr>\n",
              "      <th>238069</th>\n",
              "      <td>238069</td>\n",
              "      <td>2</td>\n",
              "      <td>2020-04-30 23:44:00</td>\n",
              "      <td>2020-04-30 23:54:00</td>\n",
              "      <td>NaN</td>\n",
              "      <td>3.30</td>\n",
              "      <td>NaN</td>\n",
              "      <td>NaN</td>\n",
              "      <td>263</td>\n",
              "      <td>230</td>\n",
              "      <td>0</td>\n",
              "      <td>13.46</td>\n",
              "      <td>0.0</td>\n",
              "      <td>0.5</td>\n",
              "      <td>0.00</td>\n",
              "      <td>0.00</td>\n",
              "      <td>0.3</td>\n",
              "      <td>16.76</td>\n",
              "      <td>NaN</td>\n",
              "      <td>NaN</td>\n",
              "    </tr>\n",
              "    <tr>\n",
              "      <th>238070</th>\n",
              "      <td>238070</td>\n",
              "      <td>2</td>\n",
              "      <td>2020-04-30 23:25:00</td>\n",
              "      <td>2020-04-30 23:38:00</td>\n",
              "      <td>NaN</td>\n",
              "      <td>6.40</td>\n",
              "      <td>NaN</td>\n",
              "      <td>NaN</td>\n",
              "      <td>137</td>\n",
              "      <td>42</td>\n",
              "      <td>0</td>\n",
              "      <td>22.05</td>\n",
              "      <td>0.0</td>\n",
              "      <td>0.5</td>\n",
              "      <td>0.00</td>\n",
              "      <td>0.00</td>\n",
              "      <td>0.3</td>\n",
              "      <td>25.35</td>\n",
              "      <td>NaN</td>\n",
              "      <td>NaN</td>\n",
              "    </tr>\n",
              "    <tr>\n",
              "      <th>238071</th>\n",
              "      <td>238071</td>\n",
              "      <td>2</td>\n",
              "      <td>2020-04-30 23:50:26</td>\n",
              "      <td>2020-05-01 00:28:21</td>\n",
              "      <td>NaN</td>\n",
              "      <td>25.70</td>\n",
              "      <td>NaN</td>\n",
              "      <td>NaN</td>\n",
              "      <td>29</td>\n",
              "      <td>69</td>\n",
              "      <td>0</td>\n",
              "      <td>68.16</td>\n",
              "      <td>0.0</td>\n",
              "      <td>0.5</td>\n",
              "      <td>0.00</td>\n",
              "      <td>6.12</td>\n",
              "      <td>0.3</td>\n",
              "      <td>77.58</td>\n",
              "      <td>NaN</td>\n",
              "      <td>NaN</td>\n",
              "    </tr>\n",
              "    <tr>\n",
              "      <th>238072</th>\n",
              "      <td>238072</td>\n",
              "      <td>2</td>\n",
              "      <td>2020-04-30 23:16:47</td>\n",
              "      <td>2020-04-30 23:31:08</td>\n",
              "      <td>NaN</td>\n",
              "      <td>5.63</td>\n",
              "      <td>NaN</td>\n",
              "      <td>NaN</td>\n",
              "      <td>14</td>\n",
              "      <td>29</td>\n",
              "      <td>0</td>\n",
              "      <td>17.48</td>\n",
              "      <td>0.0</td>\n",
              "      <td>0.0</td>\n",
              "      <td>3.56</td>\n",
              "      <td>0.00</td>\n",
              "      <td>0.3</td>\n",
              "      <td>21.34</td>\n",
              "      <td>NaN</td>\n",
              "      <td>NaN</td>\n",
              "    </tr>\n",
              "  </tbody>\n",
              "</table>\n",
              "<p>238073 rows × 20 columns</p>\n",
              "</div>\n",
              "    <div class=\"colab-df-buttons\">\n",
              "\n",
              "  <div class=\"colab-df-container\">\n",
              "    <button class=\"colab-df-convert\" onclick=\"convertToInteractive('df-d81ced7b-523c-4b0e-92a3-c24c6ccc831d')\"\n",
              "            title=\"Convert this dataframe to an interactive table.\"\n",
              "            style=\"display:none;\">\n",
              "\n",
              "  <svg xmlns=\"http://www.w3.org/2000/svg\" height=\"24px\" viewBox=\"0 -960 960 960\">\n",
              "    <path d=\"M120-120v-720h720v720H120Zm60-500h600v-160H180v160Zm220 220h160v-160H400v160Zm0 220h160v-160H400v160ZM180-400h160v-160H180v160Zm440 0h160v-160H620v160ZM180-180h160v-160H180v160Zm440 0h160v-160H620v160Z\"/>\n",
              "  </svg>\n",
              "    </button>\n",
              "\n",
              "  <style>\n",
              "    .colab-df-container {\n",
              "      display:flex;\n",
              "      gap: 12px;\n",
              "    }\n",
              "\n",
              "    .colab-df-convert {\n",
              "      background-color: #E8F0FE;\n",
              "      border: none;\n",
              "      border-radius: 50%;\n",
              "      cursor: pointer;\n",
              "      display: none;\n",
              "      fill: #1967D2;\n",
              "      height: 32px;\n",
              "      padding: 0 0 0 0;\n",
              "      width: 32px;\n",
              "    }\n",
              "\n",
              "    .colab-df-convert:hover {\n",
              "      background-color: #E2EBFA;\n",
              "      box-shadow: 0px 1px 2px rgba(60, 64, 67, 0.3), 0px 1px 3px 1px rgba(60, 64, 67, 0.15);\n",
              "      fill: #174EA6;\n",
              "    }\n",
              "\n",
              "    .colab-df-buttons div {\n",
              "      margin-bottom: 4px;\n",
              "    }\n",
              "\n",
              "    [theme=dark] .colab-df-convert {\n",
              "      background-color: #3B4455;\n",
              "      fill: #D2E3FC;\n",
              "    }\n",
              "\n",
              "    [theme=dark] .colab-df-convert:hover {\n",
              "      background-color: #434B5C;\n",
              "      box-shadow: 0px 1px 3px 1px rgba(0, 0, 0, 0.15);\n",
              "      filter: drop-shadow(0px 1px 2px rgba(0, 0, 0, 0.3));\n",
              "      fill: #FFFFFF;\n",
              "    }\n",
              "  </style>\n",
              "\n",
              "    <script>\n",
              "      const buttonEl =\n",
              "        document.querySelector('#df-d81ced7b-523c-4b0e-92a3-c24c6ccc831d button.colab-df-convert');\n",
              "      buttonEl.style.display =\n",
              "        google.colab.kernel.accessAllowed ? 'block' : 'none';\n",
              "\n",
              "      async function convertToInteractive(key) {\n",
              "        const element = document.querySelector('#df-d81ced7b-523c-4b0e-92a3-c24c6ccc831d');\n",
              "        const dataTable =\n",
              "          await google.colab.kernel.invokeFunction('convertToInteractive',\n",
              "                                                    [key], {});\n",
              "        if (!dataTable) return;\n",
              "\n",
              "        const docLinkHtml = 'Like what you see? Visit the ' +\n",
              "          '<a target=\"_blank\" href=https://colab.research.google.com/notebooks/data_table.ipynb>data table notebook</a>'\n",
              "          + ' to learn more about interactive tables.';\n",
              "        element.innerHTML = '';\n",
              "        dataTable['output_type'] = 'display_data';\n",
              "        await google.colab.output.renderOutput(dataTable, element);\n",
              "        const docLink = document.createElement('div');\n",
              "        docLink.innerHTML = docLinkHtml;\n",
              "        element.appendChild(docLink);\n",
              "      }\n",
              "    </script>\n",
              "  </div>\n",
              "\n",
              "\n",
              "<div id=\"df-ad4c6593-8a7d-4baf-b956-38893d88eff4\">\n",
              "  <button class=\"colab-df-quickchart\" onclick=\"quickchart('df-ad4c6593-8a7d-4baf-b956-38893d88eff4')\"\n",
              "            title=\"Suggest charts\"\n",
              "            style=\"display:none;\">\n",
              "\n",
              "<svg xmlns=\"http://www.w3.org/2000/svg\" height=\"24px\"viewBox=\"0 0 24 24\"\n",
              "     width=\"24px\">\n",
              "    <g>\n",
              "        <path d=\"M19 3H5c-1.1 0-2 .9-2 2v14c0 1.1.9 2 2 2h14c1.1 0 2-.9 2-2V5c0-1.1-.9-2-2-2zM9 17H7v-7h2v7zm4 0h-2V7h2v10zm4 0h-2v-4h2v4z\"/>\n",
              "    </g>\n",
              "</svg>\n",
              "  </button>\n",
              "\n",
              "<style>\n",
              "  .colab-df-quickchart {\n",
              "      --bg-color: #E8F0FE;\n",
              "      --fill-color: #1967D2;\n",
              "      --hover-bg-color: #E2EBFA;\n",
              "      --hover-fill-color: #174EA6;\n",
              "      --disabled-fill-color: #AAA;\n",
              "      --disabled-bg-color: #DDD;\n",
              "  }\n",
              "\n",
              "  [theme=dark] .colab-df-quickchart {\n",
              "      --bg-color: #3B4455;\n",
              "      --fill-color: #D2E3FC;\n",
              "      --hover-bg-color: #434B5C;\n",
              "      --hover-fill-color: #FFFFFF;\n",
              "      --disabled-bg-color: #3B4455;\n",
              "      --disabled-fill-color: #666;\n",
              "  }\n",
              "\n",
              "  .colab-df-quickchart {\n",
              "    background-color: var(--bg-color);\n",
              "    border: none;\n",
              "    border-radius: 50%;\n",
              "    cursor: pointer;\n",
              "    display: none;\n",
              "    fill: var(--fill-color);\n",
              "    height: 32px;\n",
              "    padding: 0;\n",
              "    width: 32px;\n",
              "  }\n",
              "\n",
              "  .colab-df-quickchart:hover {\n",
              "    background-color: var(--hover-bg-color);\n",
              "    box-shadow: 0 1px 2px rgba(60, 64, 67, 0.3), 0 1px 3px 1px rgba(60, 64, 67, 0.15);\n",
              "    fill: var(--button-hover-fill-color);\n",
              "  }\n",
              "\n",
              "  .colab-df-quickchart-complete:disabled,\n",
              "  .colab-df-quickchart-complete:disabled:hover {\n",
              "    background-color: var(--disabled-bg-color);\n",
              "    fill: var(--disabled-fill-color);\n",
              "    box-shadow: none;\n",
              "  }\n",
              "\n",
              "  .colab-df-spinner {\n",
              "    border: 2px solid var(--fill-color);\n",
              "    border-color: transparent;\n",
              "    border-bottom-color: var(--fill-color);\n",
              "    animation:\n",
              "      spin 1s steps(1) infinite;\n",
              "  }\n",
              "\n",
              "  @keyframes spin {\n",
              "    0% {\n",
              "      border-color: transparent;\n",
              "      border-bottom-color: var(--fill-color);\n",
              "      border-left-color: var(--fill-color);\n",
              "    }\n",
              "    20% {\n",
              "      border-color: transparent;\n",
              "      border-left-color: var(--fill-color);\n",
              "      border-top-color: var(--fill-color);\n",
              "    }\n",
              "    30% {\n",
              "      border-color: transparent;\n",
              "      border-left-color: var(--fill-color);\n",
              "      border-top-color: var(--fill-color);\n",
              "      border-right-color: var(--fill-color);\n",
              "    }\n",
              "    40% {\n",
              "      border-color: transparent;\n",
              "      border-right-color: var(--fill-color);\n",
              "      border-top-color: var(--fill-color);\n",
              "    }\n",
              "    60% {\n",
              "      border-color: transparent;\n",
              "      border-right-color: var(--fill-color);\n",
              "    }\n",
              "    80% {\n",
              "      border-color: transparent;\n",
              "      border-right-color: var(--fill-color);\n",
              "      border-bottom-color: var(--fill-color);\n",
              "    }\n",
              "    90% {\n",
              "      border-color: transparent;\n",
              "      border-bottom-color: var(--fill-color);\n",
              "    }\n",
              "  }\n",
              "</style>\n",
              "\n",
              "  <script>\n",
              "    async function quickchart(key) {\n",
              "      const quickchartButtonEl =\n",
              "        document.querySelector('#' + key + ' button');\n",
              "      quickchartButtonEl.disabled = true;  // To prevent multiple clicks.\n",
              "      quickchartButtonEl.classList.add('colab-df-spinner');\n",
              "      try {\n",
              "        const charts = await google.colab.kernel.invokeFunction(\n",
              "            'suggestCharts', [key], {});\n",
              "      } catch (error) {\n",
              "        console.error('Error during call to suggestCharts:', error);\n",
              "      }\n",
              "      quickchartButtonEl.classList.remove('colab-df-spinner');\n",
              "      quickchartButtonEl.classList.add('colab-df-quickchart-complete');\n",
              "    }\n",
              "    (() => {\n",
              "      let quickchartButtonEl =\n",
              "        document.querySelector('#df-ad4c6593-8a7d-4baf-b956-38893d88eff4 button');\n",
              "      quickchartButtonEl.style.display =\n",
              "        google.colab.kernel.accessAllowed ? 'block' : 'none';\n",
              "    })();\n",
              "  </script>\n",
              "</div>\n",
              "\n",
              "  <div id=\"id_7364d4a2-1778-4e35-9419-8cfc4ff1a3ee\">\n",
              "    <style>\n",
              "      .colab-df-generate {\n",
              "        background-color: #E8F0FE;\n",
              "        border: none;\n",
              "        border-radius: 50%;\n",
              "        cursor: pointer;\n",
              "        display: none;\n",
              "        fill: #1967D2;\n",
              "        height: 32px;\n",
              "        padding: 0 0 0 0;\n",
              "        width: 32px;\n",
              "      }\n",
              "\n",
              "      .colab-df-generate:hover {\n",
              "        background-color: #E2EBFA;\n",
              "        box-shadow: 0px 1px 2px rgba(60, 64, 67, 0.3), 0px 1px 3px 1px rgba(60, 64, 67, 0.15);\n",
              "        fill: #174EA6;\n",
              "      }\n",
              "\n",
              "      [theme=dark] .colab-df-generate {\n",
              "        background-color: #3B4455;\n",
              "        fill: #D2E3FC;\n",
              "      }\n",
              "\n",
              "      [theme=dark] .colab-df-generate:hover {\n",
              "        background-color: #434B5C;\n",
              "        box-shadow: 0px 1px 3px 1px rgba(0, 0, 0, 0.15);\n",
              "        filter: drop-shadow(0px 1px 2px rgba(0, 0, 0, 0.3));\n",
              "        fill: #FFFFFF;\n",
              "      }\n",
              "    </style>\n",
              "    <button class=\"colab-df-generate\" onclick=\"generateWithVariable('data')\"\n",
              "            title=\"Generate code using this dataframe.\"\n",
              "            style=\"display:none;\">\n",
              "\n",
              "  <svg xmlns=\"http://www.w3.org/2000/svg\" height=\"24px\"viewBox=\"0 0 24 24\"\n",
              "       width=\"24px\">\n",
              "    <path d=\"M7,19H8.4L18.45,9,17,7.55,7,17.6ZM5,21V16.75L18.45,3.32a2,2,0,0,1,2.83,0l1.4,1.43a1.91,1.91,0,0,1,.58,1.4,1.91,1.91,0,0,1-.58,1.4L9.25,21ZM18.45,9,17,7.55Zm-12,3A5.31,5.31,0,0,0,4.9,8.1,5.31,5.31,0,0,0,1,6.5,5.31,5.31,0,0,0,4.9,4.9,5.31,5.31,0,0,0,6.5,1,5.31,5.31,0,0,0,8.1,4.9,5.31,5.31,0,0,0,12,6.5,5.46,5.46,0,0,0,6.5,12Z\"/>\n",
              "  </svg>\n",
              "    </button>\n",
              "    <script>\n",
              "      (() => {\n",
              "      const buttonEl =\n",
              "        document.querySelector('#id_7364d4a2-1778-4e35-9419-8cfc4ff1a3ee button.colab-df-generate');\n",
              "      buttonEl.style.display =\n",
              "        google.colab.kernel.accessAllowed ? 'block' : 'none';\n",
              "\n",
              "      buttonEl.onclick = () => {\n",
              "        google.colab.notebook.generateWithVariable('data');\n",
              "      }\n",
              "      })();\n",
              "    </script>\n",
              "  </div>\n",
              "\n",
              "    </div>\n",
              "  </div>\n"
            ],
            "text/plain": [
              "        Unnamed: 0  VendorID tpep_pickup_datetime tpep_dropoff_datetime  \\\n",
              "0                0         1  2020-04-01 00:41:22   2020-04-01 01:01:53   \n",
              "1                1         1  2020-04-01 00:56:00   2020-04-01 01:09:25   \n",
              "2                2         1  2020-04-01 00:00:26   2020-04-01 00:09:25   \n",
              "3                3         1  2020-04-01 00:24:38   2020-04-01 00:34:38   \n",
              "4                4         2  2020-04-01 00:13:24   2020-04-01 00:18:26   \n",
              "...            ...       ...                  ...                   ...   \n",
              "238068      238068         2  2020-04-30 23:30:00   2020-04-30 23:39:00   \n",
              "238069      238069         2  2020-04-30 23:44:00   2020-04-30 23:54:00   \n",
              "238070      238070         2  2020-04-30 23:25:00   2020-04-30 23:38:00   \n",
              "238071      238071         2  2020-04-30 23:50:26   2020-05-01 00:28:21   \n",
              "238072      238072         2  2020-04-30 23:16:47   2020-04-30 23:31:08   \n",
              "\n",
              "        passenger_count  trip_distance  RatecodeID store_and_fwd_flag  \\\n",
              "0                   1.0           1.20         1.0                  N   \n",
              "1                   1.0           3.40         1.0                  N   \n",
              "2                   1.0           2.80         1.0                  N   \n",
              "3                   0.0           2.60         1.0                  N   \n",
              "4                   1.0           1.44         1.0                  Y   \n",
              "...                 ...            ...         ...                ...   \n",
              "238068              NaN           2.02         NaN                NaN   \n",
              "238069              NaN           3.30         NaN                NaN   \n",
              "238070              NaN           6.40         NaN                NaN   \n",
              "238071              NaN          25.70         NaN                NaN   \n",
              "238072              NaN           5.63         NaN                NaN   \n",
              "\n",
              "        PULocationID  DOLocationID  payment_type  fare_amount  extra  mta_tax  \\\n",
              "0                 41            24             2         5.50    0.5      0.5   \n",
              "1                 95           197             1        12.50    0.5      0.5   \n",
              "2                237           137             1        10.00    3.0      0.5   \n",
              "3                 68           142             1        10.00    3.0      0.5   \n",
              "4                263            74             1         6.50    0.5      0.5   \n",
              "...              ...           ...           ...          ...    ...      ...   \n",
              "238068           238            75             0         8.46    0.0      0.5   \n",
              "238069           263           230             0        13.46    0.0      0.5   \n",
              "238070           137            42             0        22.05    0.0      0.5   \n",
              "238071            29            69             0        68.16    0.0      0.5   \n",
              "238072            14            29             0        17.48    0.0      0.0   \n",
              "\n",
              "        tip_amount  tolls_amount  improvement_surcharge  total_amount  \\\n",
              "0             0.00          0.00                    0.3          6.80   \n",
              "1             2.75          0.00                    0.3         16.55   \n",
              "2             1.00          0.00                    0.3         14.80   \n",
              "3             1.00          0.00                    0.3         14.80   \n",
              "4             3.00          0.00                    0.3         13.30   \n",
              "...            ...           ...                    ...           ...   \n",
              "238068        0.00          0.00                    0.3         11.76   \n",
              "238069        0.00          0.00                    0.3         16.76   \n",
              "238070        0.00          0.00                    0.3         25.35   \n",
              "238071        0.00          6.12                    0.3         77.58   \n",
              "238072        3.56          0.00                    0.3         21.34   \n",
              "\n",
              "        congestion_surcharge  airport_fee  \n",
              "0                        0.0          NaN  \n",
              "1                        0.0          NaN  \n",
              "2                        2.5          NaN  \n",
              "3                        2.5          NaN  \n",
              "4                        2.5          NaN  \n",
              "...                      ...          ...  \n",
              "238068                   NaN          NaN  \n",
              "238069                   NaN          NaN  \n",
              "238070                   NaN          NaN  \n",
              "238071                   NaN          NaN  \n",
              "238072                   NaN          NaN  \n",
              "\n",
              "[238073 rows x 20 columns]"
            ]
          },
          "execution_count": 3,
          "metadata": {},
          "output_type": "execute_result"
        }
      ],
      "source": [
        "data = pd.read_csv(\"my_file.csv\")\n",
        "data"
      ]
    },
    {
      "cell_type": "code",
      "execution_count": 4,
      "metadata": {
        "colab": {
          "base_uri": "https://localhost:8080/"
        },
        "id": "B2ERnDxZ04rL",
        "outputId": "cbfd9038-932c-4bdf-8d61-57271c1a460b"
      },
      "outputs": [
        {
          "name": "stdout",
          "output_type": "stream",
          "text": [
            "List of column names :  ['Unnamed: 0', 'VendorID', 'tpep_pickup_datetime', 'tpep_dropoff_datetime', 'passenger_count', 'trip_distance', 'RatecodeID', 'store_and_fwd_flag', 'PULocationID', 'DOLocationID', 'payment_type', 'fare_amount', 'extra', 'mta_tax', 'tip_amount', 'tolls_amount', 'improvement_surcharge', 'total_amount', 'congestion_surcharge', 'airport_fee']\n"
          ]
        }
      ],
      "source": [
        "list_of_column_names = list(data.columns)\n",
        "\n",
        "# displaying the list of column names\n",
        "print('List of column names : ',\n",
        "      list_of_column_names)"
      ]
    },
    {
      "cell_type": "code",
      "execution_count": 8,
      "metadata": {
        "colab": {
          "base_uri": "https://localhost:8080/"
        },
        "id": "CF5CzIiep7Se",
        "outputId": "aa0cfe8b-1526-4325-b388-9d9f8fb30910"
      },
      "outputs": [
        {
          "name": "stderr",
          "output_type": "stream",
          "text": [
            "<ipython-input-8-ae838dd28d83>:11: DtypeWarning: Columns (7) have mixed types. Specify dtype option on import or set low_memory=False.\n",
            "  data = pd.read_csv(\"my_file.csv\")\n"
          ]
        }
      ],
      "source": [
        "import pandas as pd\n",
        "import numpy as np\n",
        "from keras.models import Sequential\n",
        "from keras.layers import LSTM, Dense\n",
        "from sklearn.model_selection import train_test_split\n",
        "from sklearn.preprocessing import MinMaxScaler\n",
        "from sklearn.metrics import mean_squared_error\n",
        "from sklearn.impute import SimpleImputer\n",
        "\n",
        "# Load the NYC Taxi & Limousine Commission (TLC) Trip Record Data\n",
        "data = pd.read_csv(\"my_file.csv\")\n",
        "\n"
      ]
    },
    {
      "cell_type": "code",
      "execution_count": 9,
      "metadata": {
        "id": "j9CiSPsp7OK2"
      },
      "outputs": [],
      "source": [
        "# Preprocess the data\n",
        "data['pickup_datetime'] = pd.to_datetime(data['tpep_pickup_datetime'])\n",
        "\n",
        "# Feature engineering\n",
        "data['pickup_hour'] = data['pickup_datetime'].dt.hour\n",
        "data['pickup_dayofweek'] = data['pickup_datetime'].dt.dayofweek\n",
        "data['pickup_month'] = data['pickup_datetime'].dt.month\n",
        "\n",
        "# Removing rows with missing values\n",
        "data.dropna(subset=['trip_distance'], inplace=True)\n",
        "\n",
        "# Define input features and target variable\n",
        "features = ['pickup_hour', 'pickup_dayofweek', 'pickup_month', 'passenger_count', 'trip_distance']\n",
        "X = data[features].values\n",
        "y = data['trip_distance'].values"
      ]
    },
    {
      "cell_type": "code",
      "execution_count": 10,
      "metadata": {
        "id": "SMZilSpy7N-O"
      },
      "outputs": [],
      "source": [
        "# Normalize the data\n",
        "scaler_X = MinMaxScaler()\n",
        "scaler_y = MinMaxScaler()\n",
        "X_scaled = scaler_X.fit_transform(X)\n",
        "y_scaled = scaler_y.fit_transform(y.reshape(-1, 1))\n",
        "\n",
        "# Split the data into training and testing sets\n",
        "X_train, X_test, y_train, y_test = train_test_split(X_scaled, y_scaled, test_size=0.2, random_state=42)\n",
        "\n",
        "# Reshape the input data for LSTM\n",
        "X_train = X_train.reshape((X_train.shape[0], 1, X_train.shape[1]))\n",
        "X_test = X_test.reshape((X_test.shape[0], 1, X_test.shape[1]))"
      ]
    },
    {
      "cell_type": "code",
      "execution_count": 11,
      "metadata": {
        "id": "vfdKuuNAtX04"
      },
      "outputs": [],
      "source": [
        "# Build the LSTM model\n",
        "model = Sequential()\n",
        "model.add(LSTM(units=50, input_shape=(X_train.shape[1], X_train.shape[2])))\n",
        "model.add(Dense(1))\n",
        "model.compile(optimizer='adam', loss='mse')\n"
      ]
    },
    {
      "cell_type": "code",
      "execution_count": null,
      "metadata": {
        "colab": {
          "base_uri": "https://localhost:8080/"
        },
        "id": "A7A4YZAf8OCv",
        "outputId": "2c724fc4-96e7-463a-d886-a7d3898c106f"
      },
      "outputs": [
        {
          "name": "stdout",
          "output_type": "stream",
          "text": [
            "Epoch 1/50\n",
            "5952/5952 [==============================] - 19s 3ms/step - loss: nan - val_loss: nan\n",
            "Epoch 2/50\n",
            "5952/5952 [==============================] - 17s 3ms/step - loss: nan - val_loss: nan\n",
            "Epoch 3/50\n",
            "5952/5952 [==============================] - 17s 3ms/step - loss: nan - val_loss: nan\n",
            "Epoch 4/50\n",
            "5952/5952 [==============================] - 17s 3ms/step - loss: nan - val_loss: nan\n",
            "Epoch 5/50\n",
            "5952/5952 [==============================] - 17s 3ms/step - loss: nan - val_loss: nan\n",
            "Epoch 6/50\n",
            "5952/5952 [==============================] - 17s 3ms/step - loss: nan - val_loss: nan\n",
            "Epoch 7/50\n",
            "5952/5952 [==============================] - 17s 3ms/step - loss: nan - val_loss: nan\n",
            "Epoch 8/50\n",
            "5952/5952 [==============================] - 17s 3ms/step - loss: nan - val_loss: nan\n",
            "Epoch 9/50\n",
            "5952/5952 [==============================] - 17s 3ms/step - loss: nan - val_loss: nan\n",
            "Epoch 10/50\n",
            "5952/5952 [==============================] - 17s 3ms/step - loss: nan - val_loss: nan\n",
            "Epoch 11/50\n",
            "5952/5952 [==============================] - 17s 3ms/step - loss: nan - val_loss: nan\n",
            "Epoch 12/50\n",
            "5952/5952 [==============================] - 16s 3ms/step - loss: nan - val_loss: nan\n",
            "Epoch 13/50\n",
            "5952/5952 [==============================] - 17s 3ms/step - loss: nan - val_loss: nan\n",
            "Epoch 14/50\n",
            "5952/5952 [==============================] - 17s 3ms/step - loss: nan - val_loss: nan\n",
            "Epoch 15/50\n",
            "5952/5952 [==============================] - 17s 3ms/step - loss: nan - val_loss: nan\n",
            "Epoch 16/50\n",
            "5952/5952 [==============================] - 17s 3ms/step - loss: nan - val_loss: nan\n",
            "Epoch 17/50\n",
            "5952/5952 [==============================] - 17s 3ms/step - loss: nan - val_loss: nan\n",
            "Epoch 18/50\n",
            "5952/5952 [==============================] - 17s 3ms/step - loss: nan - val_loss: nan\n",
            "Epoch 19/50\n",
            "5952/5952 [==============================] - 16s 3ms/step - loss: nan - val_loss: nan\n",
            "Epoch 20/50\n",
            "5952/5952 [==============================] - 16s 3ms/step - loss: nan - val_loss: nan\n",
            "Epoch 21/50\n",
            "5952/5952 [==============================] - 17s 3ms/step - loss: nan - val_loss: nan\n"
          ]
        }
      ],
      "source": [
        "# Train the model\n",
        "model.fit(X_train, y_train, epochs=50, batch_size=32, verbose=1, validation_data=(X_test, y_test))"
      ]
    },
    {
      "cell_type": "code",
      "execution_count": 13,
      "metadata": {
        "colab": {
          "base_uri": "https://localhost:8080/"
        },
        "id": "2Q8VC0mv7lw4",
        "outputId": "fde3eec2-bc16-4111-bfb5-a9e5b1b83921"
      },
      "outputs": [
        {
          "name": "stdout",
          "output_type": "stream",
          "text": [
            "Train loss: nan\n",
            "Test loss: nan\n"
          ]
        }
      ],
      "source": [
        "# Evaluate the model\n",
        "train_loss = model.evaluate(X_train, y_train, verbose=0)\n",
        "test_loss = model.evaluate(X_test, y_test, verbose=0)\n",
        "print(\"Train loss:\", train_loss)\n",
        "print(\"Test loss:\", test_loss)"
      ]
    },
    {
      "cell_type": "code",
      "execution_count": 14,
      "metadata": {
        "colab": {
          "base_uri": "https://localhost:8080/"
        },
        "id": "VLWWYQw27lV4",
        "outputId": "cdf7b44d-78d2-4c8b-b60e-a460e68bc7f6"
      },
      "outputs": [
        {
          "name": "stdout",
          "output_type": "stream",
          "text": [
            "1488/1488 [==============================] - 3s 1ms/step\n"
          ]
        }
      ],
      "source": [
        "# Make predictions\n",
        "predictions = model.predict(X_test)"
      ]
    },
    {
      "cell_type": "code",
      "execution_count": 15,
      "metadata": {
        "id": "cJ2nrnOq7rX4"
      },
      "outputs": [],
      "source": [
        "# Inverse transform predictions to get original scale\n",
        "predictions_inv = scaler_y.inverse_transform(predictions)"
      ]
    },
    {
      "cell_type": "code",
      "execution_count": 16,
      "metadata": {
        "id": "dosKn-0LQBvW"
      },
      "outputs": [],
      "source": [
        "# Replace NaN values in predictions with a default value (e.g., 0)\n",
        "predictions_inv = np.nan_to_num(predictions_inv, nan=0.0)\n"
      ]
    },
    {
      "cell_type": "code",
      "execution_count": 17,
      "metadata": {
        "colab": {
          "base_uri": "https://localhost:8080/"
        },
        "id": "dWCsEatz76d7",
        "outputId": "8b882f23-d5f7-4440-bfd6-8ec56fa0b768"
      },
      "outputs": [
        {
          "name": "stdout",
          "output_type": "stream",
          "text": [
            "Root Mean Squared Error (RMSE): 0.0014321090255289865\n"
          ]
        }
      ],
      "source": [
        "# This code was to reslove an error\n",
        "# Check for NaN values in y_test\n",
        "if np.isnan(y_test).any():\n",
        "    print(\"y_test contains NaN values. Please handle missing values.\")\n",
        "\n",
        "# Check for NaN values in predictions_inv\n",
        "if np.isnan(predictions_inv).any():\n",
        "    print(\"predictions_inv contains NaN values. Please investigate the model predictions.\")\n",
        "    # Print indices where NaN values occur\n",
        "    nan_indices = np.where(np.isnan(predictions_inv))[0]\n",
        "    print(\"Indices of NaN predictions:\", nan_indices)\n",
        "\n",
        "    # Debugging: Print corresponding input features for NaN predictions\n",
        "    print(\"Input features for NaN predictions:\")\n",
        "    for idx in nan_indices:\n",
        "        print(\"Index:\", idx, \"Input features:\", X_test[idx])\n",
        "\n",
        "# Calculate RMSE only if there are no NaN values\n",
        "if not np.isnan(y_test).any() and not np.isnan(predictions_inv).any():\n",
        "    # Calculate RMSE\n",
        "    rmse = np.sqrt(mean_squared_error(y_test, predictions_inv))\n",
        "    print(\"Root Mean Squared Error (RMSE):\", rmse)"
      ]
    },
    {
      "cell_type": "code",
      "execution_count": 18,
      "metadata": {
        "colab": {
          "base_uri": "https://localhost:8080/"
        },
        "id": "20Yq_MSF7rt7",
        "outputId": "c52fd247-21b6-4478-9d13-b9fc0d4dfc10"
      },
      "outputs": [
        {
          "name": "stdout",
          "output_type": "stream",
          "text": [
            "Root Mean Squared Error (RMSE): 0.0014321090255289865\n"
          ]
        }
      ],
      "source": [
        "# Calculate RMSE\n",
        "rmse = np.sqrt(mean_squared_error(y_test, predictions_inv))\n",
        "print(\"Root Mean Squared Error (RMSE):\", rmse)"
      ]
    },
    {
      "cell_type": "code",
      "execution_count": 28,
      "metadata": {
        "colab": {
          "base_uri": "https://localhost:8080/"
        },
        "id": "SvUd-sdwF9pv",
        "outputId": "f6bcc596-8ed7-48cd-db11-adbec1a1a78b"
      },
      "outputs": [
        {
          "name": "stdout",
          "output_type": "stream",
          "text": [
            "Indices with NaN values in predictions_inv: []\n"
          ]
        }
      ],
      "source": [
        "nan_indices = np.isnan(predictions_inv)\n",
        "print(\"Indices with NaN values in predictions_inv:\", np.where(nan_indices)[0])\n"
      ]
    },
    {
      "cell_type": "code",
      "execution_count": 19,
      "metadata": {
        "colab": {
          "base_uri": "https://localhost:8080/",
          "height": 564
        },
        "id": "eonm9RPrDEZW",
        "outputId": "c885481b-bac5-47d5-f3ce-ef79cf84e374"
      },
      "outputs": [
        {
          "data": {
            "image/png": "[encoded data removed]",
            "text/plain": [
              "<Figure size 800x600 with 1 Axes>"
            ]
          },
          "metadata": {},
          "output_type": "display_data"
        }
      ],
      "source": [
        "# For cheaking purposes only\n",
        "import matplotlib.pyplot as plt\n",
        "\n",
        "# Assuming actual_delays and predicted_delays are lists containing the actual and predicted delay values, respectively\n",
        "actual_delays = [10, 20, 30, 40, 50]  # Example actual delay values\n",
        "predicted_delays = [12, 18, 35, 45, 55]  # Example predicted delay values\n",
        "\n",
        "# Plotting the predicted vs. actual delays\n",
        "plt.figure(figsize=(8, 6))\n",
        "plt.scatter(actual_delays, predicted_delays, color='blue', alpha=0.5)\n",
        "plt.plot([min(actual_delays), max(actual_delays)], [min(actual_delays), max(actual_delays)], color='red', linestyle='--')\n",
        "plt.title('Predicted vs. Actual Delays')\n",
        "plt.xlabel('Actual Delays')\n",
        "plt.ylabel('Predicted Delays')\n",
        "plt.grid(True)\n",
        "plt.show()\n"
      ]
    },
    {
      "cell_type": "code",
      "execution_count": 20,
      "metadata": {
        "id": "d5qY0ZhSEl2D"
      },
      "outputs": [],
      "source": [
        "df['tpep_pickup_datetime'] = pd.to_datetime(df['tpep_pickup_datetime'])\n",
        "df['tpep_dropoff_datetime'] = pd.to_datetime(df['tpep_dropoff_datetime'])\n",
        "\n",
        "# Calculate delay for each trip (dropoff time - pickup time)\n",
        "df['trip_delay'] = (df['tpep_dropoff_datetime'] - df['tpep_pickup_datetime']).dt.total_seconds() / 60\n",
        "\n",
        "# Get the actual delay values as a list\n",
        "actual_delays = df['trip_delay'].tolist()\n"
      ]
    },
    {
      "cell_type": "code",
      "execution_count": 21,
      "metadata": {
        "colab": {
          "base_uri": "https://localhost:8080/"
        },
        "id": "ztwKsTnUG-Ux",
        "outputId": "f26dfcf6-66bf-4fa7-fd10-fd4ddb25b1d7"
      },
      "outputs": [
        {
          "name": "stdout",
          "output_type": "stream",
          "text": [
            "1488/1488 [==============================] - 2s 1ms/step\n"
          ]
        }
      ],
      "source": [
        "# Make predictions using your model on the test dataset\n",
        "predicted_delays = model.predict(X_test)\n",
        "\n",
        "# Extract the predicted delay values as a list\n",
        "predicted_delays_list = predicted_delays.flatten().tolist()"
      ]
    },
    {
      "cell_type": "code",
      "execution_count": 26,
      "metadata": {
        "id": "D3PIxxa-PsJx"
      },
      "outputs": [],
      "source": [
        "# Ensure that both lists have the same length\n",
        "min_length = min(len(actual_delays), len(predicted_delays))\n",
        "actual_delays = actual_delays[:min_length]\n",
        "predicted_delays = predicted_delays[:min_length]"
      ]
    },
    {
      "cell_type": "code",
      "execution_count": 27,
      "metadata": {
        "colab": {
          "base_uri": "https://localhost:8080/",
          "height": 564
        },
        "id": "eI5TRjdUEGc3",
        "outputId": "0a71c84a-5ef8-4e55-b17c-8e81497755e1"
      },
      "outputs": [
        {
          "data": {
            "image/png": "[encoded data removed]",
            "text/plain": [
              "<Figure size 800x600 with 1 Axes>"
            ]
          },
          "metadata": {},
          "output_type": "display_data"
        }
      ],
      "source": [
        "# Plotting Actual vs. Predicted Delays\n",
        "plt.figure(figsize=(8, 6))\n",
        "plt.scatter(actual_delays, predicted_delays, color='blue', alpha=0.5)\n",
        "plt.plot([min(actual_delays), max(actual_delays)], [min(actual_delays), max(actual_delays)], color='red', linestyle='--')\n",
        "plt.title('Actual vs. Predicted Delays')\n",
        "plt.xlabel('Actual Delays (minutes)')\n",
        "plt.ylabel('Predicted Delays (minutes)')\n",
        "plt.grid(True)\n",
        "plt.show()"
      ]
    },
    {
      "cell_type": "code",
      "execution_count": 1,
      "metadata": {
        "colab": {
          "base_uri": "https://localhost:8080/",
          "height": 211
        },
        "id": "oPM1p7xyQyfA",
        "outputId": "00fe4347-509d-41db-ab9b-8ab861639971"
      },
      "outputs": [
        {
          "ename": "NameError",
          "evalue": "name 'actual_delays' is not defined",
          "output_type": "error",
          "traceback": [
            "\u001b[0;31m---------------------------------------------------------------------------\u001b[0m",
            "\u001b[0;31mNameError\u001b[0m                                 Traceback (most recent call last)",
            "\u001b[0;32m<ipython-input-1-07dd6da6192a>\u001b[0m in \u001b[0;36m<cell line: 2>\u001b[0;34m()\u001b[0m\n\u001b[1;32m      1\u001b[0m \u001b[0;31m# Number of data points\u001b[0m\u001b[0;34m\u001b[0m\u001b[0;34m\u001b[0m\u001b[0m\n\u001b[0;32m----> 2\u001b[0;31m \u001b[0mnum_data_points\u001b[0m \u001b[0;34m=\u001b[0m \u001b[0mlen\u001b[0m\u001b[0;34m(\u001b[0m\u001b[0mactual_delays\u001b[0m\u001b[0;34m)\u001b[0m\u001b[0;34m\u001b[0m\u001b[0;34m\u001b[0m\u001b[0m\n\u001b[0m\u001b[1;32m      3\u001b[0m \u001b[0;34m\u001b[0m\u001b[0m\n\u001b[1;32m      4\u001b[0m \u001b[0;31m# Create an array of indices for the data points\u001b[0m\u001b[0;34m\u001b[0m\u001b[0;34m\u001b[0m\u001b[0m\n\u001b[1;32m      5\u001b[0m \u001b[0mindices\u001b[0m \u001b[0;34m=\u001b[0m \u001b[0mnp\u001b[0m\u001b[0;34m.\u001b[0m\u001b[0marange\u001b[0m\u001b[0;34m(\u001b[0m\u001b[0mnum_data_points\u001b[0m\u001b[0;34m)\u001b[0m\u001b[0;34m\u001b[0m\u001b[0;34m\u001b[0m\u001b[0m\n",
            "\u001b[0;31mNameError\u001b[0m: name 'actual_delays' is not defined"
          ]
        }
      ],
      "source": [
        "# Number of data points\n",
        "num_data_points = len(actual_delays)\n",
        "\n",
        "# Create an array of indices for the data points\n",
        "indices = np.arange(num_data_points)\n",
        "\n",
        "# Width of the bars\n",
        "bar_width = 0.35\n",
        "\n",
        "# Plotting Actual vs. Predicted Delays using a bar graph\n",
        "plt.figure(figsize=(10, 6))\n",
        "plt.bar(indices, actual_delays, bar_width, label='Actual Delays', color='blue')\n",
        "plt.bar(indices + bar_width, predicted_delays, bar_width, label='Predicted Delays', color='orange')\n",
        "\n",
        "plt.xlabel('Data Points')\n",
        "plt.ylabel('Delays (minutes)')\n",
        "plt.title('Actual vs. Predicted Delays')\n",
        "plt.xticks(indices + bar_width / 2, indices)\n",
        "plt.legend()\n",
        "plt.tight_layout()\n",
        "plt.show()"
      ]
    }
  ],
  "metadata": {
    "colab": {
      "provenance": []
    },
    "kernelspec": {
      "display_name": "Python 3",
      "name": "python3"
    },
    "language_info": {
      "name": "python"
    }
  },
  "nbformat": 4,
  "nbformat_minor": 0
}
